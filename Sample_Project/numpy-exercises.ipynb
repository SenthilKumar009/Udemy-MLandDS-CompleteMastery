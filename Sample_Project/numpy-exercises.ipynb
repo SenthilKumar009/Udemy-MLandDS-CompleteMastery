{
 "cells": [
  {
   "cell_type": "markdown",
   "metadata": {},
   "source": [
    "# NumPy Practice\n",
    "\n",
    "This notebook offers a set of excercises for different tasks with NumPy.\n",
    "\n",
    "It should be noted there may be more than one different way to answer a question or complete an exercise.\n",
    "\n",
    "Exercises are based off (and directly taken from) the quick introduction to NumPy notebook.\n",
    "\n",
    "Different tasks will be detailed by comments or text.\n",
    "\n",
    "For further reference and resources, it's advised to check out the [NumPy documentation](https://numpy.org/devdocs/user/index.html).\n",
    "\n",
    "And if you get stuck, try searching for a question in the following format: \"how to do XYZ with numpy\", where XYZ is the function you want to leverage from NumPy."
   ]
  },
  {
   "cell_type": "code",
   "execution_count": 1,
   "metadata": {},
   "outputs": [],
   "source": [
    "# Import NumPy as its abbreviation 'np'\n",
    "import numpy as np"
   ]
  },
  {
   "cell_type": "code",
   "execution_count": 3,
   "metadata": {},
   "outputs": [],
   "source": [
    "# Create a 1-dimensional NumPy array using np.array()\n",
    "arr1 = np.array([1,2,3,4,5])\n",
    "\n",
    "# Create a 2-dimensional NumPy array using np.array()\n",
    "arr2 = np.array([[1,2,3],\n",
    "                 [4,5,6]])\n",
    "\n",
    "# Create a 3-dimensional Numpy array using np.array()\n",
    "arr3 = np.array([[[1,2,3],\n",
    "                  [2,3,4]],\n",
    "                 [[4,5,6],\n",
    "                  [5,6,7]]])"
   ]
  },
  {
   "cell_type": "markdown",
   "metadata": {},
   "source": [
    "Now we've you've created 3 different arrays, let's find details about them.\n",
    "\n",
    "Find the shape, number of dimensions, data type, size and type of each array."
   ]
  },
  {
   "cell_type": "code",
   "execution_count": 7,
   "metadata": {},
   "outputs": [
    {
     "data": {
      "text/plain": [
       "((5,), 1, dtype('int64'), 5, numpy.ndarray)"
      ]
     },
     "execution_count": 7,
     "metadata": {},
     "output_type": "execute_result"
    }
   ],
   "source": [
    "# Attributes of 1-dimensional array (shape, \n",
    "# number of dimensions, data type, size and type)\n",
    "arr1.shape, arr1.ndim, arr1.dtype, arr1.size, type(arr1)"
   ]
  },
  {
   "cell_type": "code",
   "execution_count": 8,
   "metadata": {},
   "outputs": [
    {
     "data": {
      "text/plain": [
       "((2, 3), 2, dtype('int64'), 6, numpy.ndarray)"
      ]
     },
     "execution_count": 8,
     "metadata": {},
     "output_type": "execute_result"
    }
   ],
   "source": [
    "# Attributes of 2-dimensional array\n",
    "arr2.shape, arr2.ndim, arr2.dtype, arr2.size, type(arr2)"
   ]
  },
  {
   "cell_type": "code",
   "execution_count": 9,
   "metadata": {},
   "outputs": [
    {
     "data": {
      "text/plain": [
       "((2, 2, 3), 3, dtype('int64'), 12, numpy.ndarray)"
      ]
     },
     "execution_count": 9,
     "metadata": {},
     "output_type": "execute_result"
    }
   ],
   "source": [
    "# Attributes of 3-dimensional array\n",
    "arr3.shape, arr3.ndim, arr3.dtype, arr3.size, type(arr3)"
   ]
  },
  {
   "cell_type": "code",
   "execution_count": 22,
   "metadata": {},
   "outputs": [
    {
     "data": {
      "text/html": [
       "<div>\n",
       "<style scoped>\n",
       "    .dataframe tbody tr th:only-of-type {\n",
       "        vertical-align: middle;\n",
       "    }\n",
       "\n",
       "    .dataframe tbody tr th {\n",
       "        vertical-align: top;\n",
       "    }\n",
       "\n",
       "    .dataframe thead th {\n",
       "        text-align: right;\n",
       "    }\n",
       "</style>\n",
       "<table border=\"1\" class=\"dataframe\">\n",
       "  <thead>\n",
       "    <tr style=\"text-align: right;\">\n",
       "      <th></th>\n",
       "      <th>0</th>\n",
       "      <th>1</th>\n",
       "      <th>2</th>\n",
       "    </tr>\n",
       "  </thead>\n",
       "  <tbody>\n",
       "    <tr>\n",
       "      <th>0</th>\n",
       "      <td>1</td>\n",
       "      <td>2</td>\n",
       "      <td>3</td>\n",
       "    </tr>\n",
       "    <tr>\n",
       "      <th>1</th>\n",
       "      <td>4</td>\n",
       "      <td>5</td>\n",
       "      <td>6</td>\n",
       "    </tr>\n",
       "  </tbody>\n",
       "</table>\n",
       "</div>"
      ],
      "text/plain": [
       "   0  1  2\n",
       "0  1  2  3\n",
       "1  4  5  6"
      ]
     },
     "execution_count": 22,
     "metadata": {},
     "output_type": "execute_result"
    }
   ],
   "source": [
    "# Import pandas and create a DataFrame out of one\n",
    "import pandas as pd\n",
    "# of the arrays you've created\n",
    "df = pd.DataFrame(arr2)\n",
    "df"
   ]
  },
  {
   "cell_type": "code",
   "execution_count": 13,
   "metadata": {},
   "outputs": [],
   "source": [
    "# Create an array of shape (10, 2) with only ones\n",
    "ones_arr1 = np.ones((10,2))"
   ]
  },
  {
   "cell_type": "code",
   "execution_count": 15,
   "metadata": {},
   "outputs": [],
   "source": [
    "# Create an array of shape (7, 2, 3) of only zeros\n",
    "zeros_arr2 = np.zeros((7,2,3))"
   ]
  },
  {
   "cell_type": "code",
   "execution_count": 16,
   "metadata": {},
   "outputs": [],
   "source": [
    "# Create an array within a range of 0 and 100 with step 3\n",
    "range_arr = np.arange(0,100,3)"
   ]
  },
  {
   "cell_type": "code",
   "execution_count": 17,
   "metadata": {},
   "outputs": [],
   "source": [
    "# Create a random array with numbers between 0 and 10 of size (7, 2)\n",
    "rand_arr = np.random.randint(10, size=(7,2))"
   ]
  },
  {
   "cell_type": "code",
   "execution_count": 19,
   "metadata": {},
   "outputs": [],
   "source": [
    "# Create a random array of floats between 0 & 1 of shape (3, 5)\n",
    "rand_float = np.random.random((3,5))"
   ]
  },
  {
   "cell_type": "code",
   "execution_count": 21,
   "metadata": {},
   "outputs": [
    {
     "data": {
      "text/plain": [
       "array([[6, 3, 7, 4, 6, 9],\n",
       "       [2, 6, 7, 4, 3, 7],\n",
       "       [7, 2, 5, 4, 1, 7],\n",
       "       [5, 1, 4, 0, 9, 5]])"
      ]
     },
     "execution_count": 21,
     "metadata": {},
     "output_type": "execute_result"
    }
   ],
   "source": [
    "# Set the random seed to 42\n",
    "np.random.seed(42)\n",
    "\n",
    "# Create a random array of numbers between 0 & 10 of size (4, 6)\n",
    "np.random.randint(10, size=(4,6))"
   ]
  },
  {
   "cell_type": "markdown",
   "metadata": {},
   "source": [
    "Run the cell above again, what happens?\n",
    "\n",
    "Are the numbers in the array different or the same? Why do think this is?"
   ]
  },
  {
   "cell_type": "code",
   "execution_count": 24,
   "metadata": {},
   "outputs": [
    {
     "data": {
      "text/plain": [
       "array([0, 1, 2, 3, 4, 5, 6, 7, 9])"
      ]
     },
     "execution_count": 24,
     "metadata": {},
     "output_type": "execute_result"
    }
   ],
   "source": [
    "# Create an array of random numbers between 1 & 10 of size (3, 7)\n",
    "# and save it to a variable\n",
    "rand_arr = np.random.randint(10, size=(3,7))\n",
    "\n",
    "# Find the unique numbers in the array you just created\n",
    "np.unique(rand_arr)"
   ]
  },
  {
   "cell_type": "code",
   "execution_count": 25,
   "metadata": {},
   "outputs": [
    {
     "data": {
      "text/plain": [
       "array([4, 1, 3, 6, 7, 2, 0])"
      ]
     },
     "execution_count": 25,
     "metadata": {},
     "output_type": "execute_result"
    }
   ],
   "source": [
    "# Find the 0'th index of the latest array you created\n",
    "rand_arr[0]"
   ]
  },
  {
   "cell_type": "code",
   "execution_count": 31,
   "metadata": {},
   "outputs": [
    {
     "data": {
      "text/plain": [
       "array([[4, 1, 3, 6, 7, 2, 0],\n",
       "       [3, 1, 7, 3, 1, 5, 5]])"
      ]
     },
     "execution_count": 31,
     "metadata": {},
     "output_type": "execute_result"
    }
   ],
   "source": [
    "# Get the first 2 rows of latest array you created\n",
    "rand_arr[:2]"
   ]
  },
  {
   "cell_type": "code",
   "execution_count": 32,
   "metadata": {},
   "outputs": [
    {
     "data": {
      "text/plain": [
       "array([[4, 1, 3, 6, 7, 2, 0],\n",
       "       [3, 1, 7, 3, 1, 5, 5]])"
      ]
     },
     "execution_count": 32,
     "metadata": {},
     "output_type": "execute_result"
    }
   ],
   "source": [
    "# Get the first 2 rows of latest array you created\n",
    "rand_arr[:2]"
   ]
  },
  {
   "cell_type": "code",
   "execution_count": 33,
   "metadata": {},
   "outputs": [
    {
     "data": {
      "text/plain": [
       "array([[4, 1],\n",
       "       [3, 1]])"
      ]
     },
     "execution_count": 33,
     "metadata": {},
     "output_type": "execute_result"
    }
   ],
   "source": [
    "# Get the first 2 values of the first 2 rows of the latest array\n",
    "rand_arr[:2, :2]"
   ]
  },
  {
   "cell_type": "code",
   "execution_count": 35,
   "metadata": {},
   "outputs": [],
   "source": [
    "# Create a random array of numbers between 0 & 10 and an array of ones\n",
    "# both of size (3, 5), save them both to variables\n",
    "arr_rand = np.random.randint(10, size=(3,5))\n",
    "arr_ones = np.ones((3,5))"
   ]
  },
  {
   "cell_type": "code",
   "execution_count": 36,
   "metadata": {},
   "outputs": [
    {
     "data": {
      "text/plain": [
       "array([[ 9.,  8.,  1.,  8.,  8.],\n",
       "       [ 3.,  1.,  8.,  3.,  3.],\n",
       "       [ 1.,  5., 10.,  7., 10.]])"
      ]
     },
     "execution_count": 36,
     "metadata": {},
     "output_type": "execute_result"
    }
   ],
   "source": [
    "# Add the two arrays together\n",
    "arr_rand + arr_ones"
   ]
  },
  {
   "cell_type": "code",
   "execution_count": 37,
   "metadata": {},
   "outputs": [],
   "source": [
    "# Create another array of ones of shape (5, 3)\n",
    "next_array = np.ones((5,3))"
   ]
  },
  {
   "cell_type": "code",
   "execution_count": 38,
   "metadata": {},
   "outputs": [
    {
     "ename": "ValueError",
     "evalue": "operands could not be broadcast together with shapes (3,5) (5,3) ",
     "output_type": "error",
     "traceback": [
      "\u001b[0;31m---------------------------------------------------------------------------\u001b[0m",
      "\u001b[0;31mValueError\u001b[0m                                Traceback (most recent call last)",
      "\u001b[0;32m<ipython-input-38-237ea856b94d>\u001b[0m in \u001b[0;36m<module>\u001b[0;34m\u001b[0m\n\u001b[1;32m      1\u001b[0m \u001b[0;31m# Try add the array of ones and the other most recent array together\u001b[0m\u001b[0;34m\u001b[0m\u001b[0;34m\u001b[0m\u001b[0;34m\u001b[0m\u001b[0m\n\u001b[0;32m----> 2\u001b[0;31m \u001b[0marr_ones\u001b[0m \u001b[0;34m+\u001b[0m \u001b[0mnext_array\u001b[0m\u001b[0;34m\u001b[0m\u001b[0;34m\u001b[0m\u001b[0m\n\u001b[0m",
      "\u001b[0;31mValueError\u001b[0m: operands could not be broadcast together with shapes (3,5) (5,3) "
     ]
    }
   ],
   "source": [
    "# Try add the array of ones and the other most recent array together\n",
    "arr_ones + next_array"
   ]
  },
  {
   "cell_type": "markdown",
   "metadata": {},
   "source": [
    "When you try the last cell, it produces an error. Why do think this is?\n",
    "\n",
    "How would you fix it?"
   ]
  },
  {
   "cell_type": "code",
   "execution_count": 39,
   "metadata": {},
   "outputs": [],
   "source": [
    "# Create another array of ones of shape (3, 5)\n",
    "another_arry = np.ones((3,5))"
   ]
  },
  {
   "cell_type": "code",
   "execution_count": 40,
   "metadata": {},
   "outputs": [
    {
     "data": {
      "text/plain": [
       "array([[0., 0., 0., 0., 0.],\n",
       "       [0., 0., 0., 0., 0.],\n",
       "       [0., 0., 0., 0., 0.]])"
      ]
     },
     "execution_count": 40,
     "metadata": {},
     "output_type": "execute_result"
    }
   ],
   "source": [
    "# Subtract the new array of ones from the other most recent array\n",
    "arr_ones - another_arry"
   ]
  },
  {
   "cell_type": "code",
   "execution_count": 44,
   "metadata": {},
   "outputs": [
    {
     "data": {
      "text/plain": [
       "array([[8., 7., 0., 7., 7.],\n",
       "       [2., 0., 7., 2., 2.],\n",
       "       [0., 4., 9., 6., 9.]])"
      ]
     },
     "execution_count": 44,
     "metadata": {},
     "output_type": "execute_result"
    }
   ],
   "source": [
    "# Multiply the ones array with the latest array\n",
    "arr_rand * another_arry"
   ]
  },
  {
   "cell_type": "code",
   "execution_count": 45,
   "metadata": {},
   "outputs": [
    {
     "data": {
      "text/plain": [
       "array([[64, 49,  0, 49, 49],\n",
       "       [ 4,  0, 49,  4,  4],\n",
       "       [ 0, 16, 81, 36, 81]])"
      ]
     },
     "execution_count": 45,
     "metadata": {},
     "output_type": "execute_result"
    }
   ],
   "source": [
    "# Take the latest array to the power of 2 using '**'\n",
    "arr_rand ** 2"
   ]
  },
  {
   "cell_type": "code",
   "execution_count": 46,
   "metadata": {},
   "outputs": [
    {
     "data": {
      "text/plain": [
       "array([[64, 49,  0, 49, 49],\n",
       "       [ 4,  0, 49,  4,  4],\n",
       "       [ 0, 16, 81, 36, 81]])"
      ]
     },
     "execution_count": 46,
     "metadata": {},
     "output_type": "execute_result"
    }
   ],
   "source": [
    "# Do the same thing with np.square()\n",
    "np.square(arr_rand)"
   ]
  },
  {
   "cell_type": "code",
   "execution_count": 47,
   "metadata": {},
   "outputs": [
    {
     "data": {
      "text/plain": [
       "4.666666666666667"
      ]
     },
     "execution_count": 47,
     "metadata": {},
     "output_type": "execute_result"
    }
   ],
   "source": [
    "# Find the mean of the latest array using np.mean()\n",
    "np.mean(arr_rand)"
   ]
  },
  {
   "cell_type": "code",
   "execution_count": 48,
   "metadata": {},
   "outputs": [
    {
     "data": {
      "text/plain": [
       "9"
      ]
     },
     "execution_count": 48,
     "metadata": {},
     "output_type": "execute_result"
    }
   ],
   "source": [
    "# Find the maximum of the latest array using np.max()\n",
    "np.max(arr_rand)"
   ]
  },
  {
   "cell_type": "code",
   "execution_count": 49,
   "metadata": {},
   "outputs": [
    {
     "data": {
      "text/plain": [
       "0"
      ]
     },
     "execution_count": 49,
     "metadata": {},
     "output_type": "execute_result"
    }
   ],
   "source": [
    "# Find the minimum of the latest array using np.min()\n",
    "np.min(arr_rand)"
   ]
  },
  {
   "cell_type": "code",
   "execution_count": 50,
   "metadata": {},
   "outputs": [
    {
     "data": {
      "text/plain": [
       "3.2591750830880843"
      ]
     },
     "execution_count": 50,
     "metadata": {},
     "output_type": "execute_result"
    }
   ],
   "source": [
    "# Find the standard deviation of the latest array\n",
    "np.std(arr_rand)"
   ]
  },
  {
   "cell_type": "code",
   "execution_count": 51,
   "metadata": {},
   "outputs": [
    {
     "data": {
      "text/plain": [
       "10.622222222222222"
      ]
     },
     "execution_count": 51,
     "metadata": {},
     "output_type": "execute_result"
    }
   ],
   "source": [
    "# Find the variance of the latest array\n",
    "np.var(arr_rand)"
   ]
  },
  {
   "cell_type": "code",
   "execution_count": 52,
   "metadata": {},
   "outputs": [
    {
     "data": {
      "text/plain": [
       "array([[[8],\n",
       "        [7],\n",
       "        [0],\n",
       "        [7],\n",
       "        [7]],\n",
       "\n",
       "       [[2],\n",
       "        [0],\n",
       "        [7],\n",
       "        [2],\n",
       "        [2]],\n",
       "\n",
       "       [[0],\n",
       "        [4],\n",
       "        [9],\n",
       "        [6],\n",
       "        [9]]])"
      ]
     },
     "execution_count": 52,
     "metadata": {},
     "output_type": "execute_result"
    }
   ],
   "source": [
    "# Reshape the latest array to (3, 5, 1)\n",
    "arr_rand.reshape(3,5,1)"
   ]
  },
  {
   "cell_type": "code",
   "execution_count": 53,
   "metadata": {},
   "outputs": [
    {
     "data": {
      "text/plain": [
       "array([[8, 2, 0],\n",
       "       [7, 0, 4],\n",
       "       [0, 7, 9],\n",
       "       [7, 2, 6],\n",
       "       [7, 2, 9]])"
      ]
     },
     "execution_count": 53,
     "metadata": {},
     "output_type": "execute_result"
    }
   ],
   "source": [
    "# Transpose the latest array\n",
    "arr_rand.T"
   ]
  },
  {
   "cell_type": "markdown",
   "metadata": {},
   "source": [
    "What does the transpose do?"
   ]
  },
  {
   "cell_type": "code",
   "execution_count": 56,
   "metadata": {},
   "outputs": [],
   "source": [
    "# Create two arrays of random integers between 0 to 10\n",
    "# one of size (3, 3) the other of size (3, 2)\n",
    "array1 = np.random.randint(10, size=(3,3))\n",
    "array2 = np.random.randint(10, size=(3,2))"
   ]
  },
  {
   "cell_type": "code",
   "execution_count": 57,
   "metadata": {},
   "outputs": [
    {
     "data": {
      "text/plain": [
       "array([[60, 84],\n",
       "       [18, 32],\n",
       "       [48, 48]])"
      ]
     },
     "execution_count": 57,
     "metadata": {},
     "output_type": "execute_result"
    }
   ],
   "source": [
    "# Perform a dot product on the two newest arrays you created\n",
    "np.dot(array1, array2)"
   ]
  },
  {
   "cell_type": "code",
   "execution_count": 58,
   "metadata": {},
   "outputs": [],
   "source": [
    "# Create two arrays of random integers between 0 to 10\n",
    "# both of size (4, 3)\n",
    "array1 = np.random.randint(10, size=(4,3))\n",
    "array2 = np.random.randint(10, size=(4,3))"
   ]
  },
  {
   "cell_type": "code",
   "execution_count": 60,
   "metadata": {},
   "outputs": [
    {
     "data": {
      "text/plain": [
       "array([[ 65, 161,  90, 138],\n",
       "       [ 15,  66,  57,  54],\n",
       "       [ 32,  83,  81,  86],\n",
       "       [ 33, 102,  93,  96]])"
      ]
     },
     "execution_count": 60,
     "metadata": {},
     "output_type": "execute_result"
    }
   ],
   "source": [
    "# Perform a dot product on the two newest arrays you created\n",
    "np.dot(array1, array2.T)"
   ]
  },
  {
   "cell_type": "markdown",
   "metadata": {},
   "source": [
    "It doesn't work. How would you fix it?"
   ]
  },
  {
   "cell_type": "code",
   "execution_count": 37,
   "metadata": {},
   "outputs": [],
   "source": [
    "# Take the latest two arrays, perform a transpose on one of them and then perform \n",
    "# a dot product on them both\n"
   ]
  },
  {
   "cell_type": "markdown",
   "metadata": {},
   "source": [
    "Notice how performing a transpose allows the dot product to happen.\n",
    "\n",
    "Why is this?\n",
    "\n",
    "Checking out the documentation on [`np.dot()`](https://docs.scipy.org/doc/numpy/reference/generated/numpy.dot.html) may help, as well as reading [Math is Fun's guide on the dot product](https://www.mathsisfun.com/algebra/vectors-dot-product.html).\n",
    "\n",
    "Let's now compare arrays."
   ]
  },
  {
   "cell_type": "code",
   "execution_count": 61,
   "metadata": {},
   "outputs": [],
   "source": [
    "# Create two arrays of random integers between 0 & 10 of the same shape\n",
    "# and save them to variables\n",
    "array1 = np.random.randint(10, size=(3,3))\n",
    "array2 = np.random.randint(10, size=(3,3))"
   ]
  },
  {
   "cell_type": "code",
   "execution_count": 62,
   "metadata": {},
   "outputs": [
    {
     "data": {
      "text/plain": [
       "array([[False, False,  True],\n",
       "       [ True,  True, False],\n",
       "       [False,  True, False]])"
      ]
     },
     "execution_count": 62,
     "metadata": {},
     "output_type": "execute_result"
    }
   ],
   "source": [
    "# Compare the two arrays with '>'\n",
    "array1 > array2"
   ]
  },
  {
   "cell_type": "markdown",
   "metadata": {},
   "source": [
    "What happens when you compare the arrays with `>`?"
   ]
  },
  {
   "cell_type": "code",
   "execution_count": 63,
   "metadata": {},
   "outputs": [
    {
     "data": {
      "text/plain": [
       "array([[False, False,  True],\n",
       "       [ True,  True, False],\n",
       "       [False,  True, False]])"
      ]
     },
     "execution_count": 63,
     "metadata": {},
     "output_type": "execute_result"
    }
   ],
   "source": [
    "# Compare the two arrays with '>='\n",
    "array1 >= array2"
   ]
  },
  {
   "cell_type": "code",
   "execution_count": 64,
   "metadata": {},
   "outputs": [
    {
     "data": {
      "text/plain": [
       "array([[False, False,  True],\n",
       "       [ True, False,  True],\n",
       "       [False, False, False]])"
      ]
     },
     "execution_count": 64,
     "metadata": {},
     "output_type": "execute_result"
    }
   ],
   "source": [
    "# Find which elements of the first array are greater than 7\n",
    "array1 > 7"
   ]
  },
  {
   "cell_type": "code",
   "execution_count": 65,
   "metadata": {},
   "outputs": [
    {
     "data": {
      "text/plain": [
       "array([[False, False, False],\n",
       "       [False, False, False],\n",
       "       [False, False, False]])"
      ]
     },
     "execution_count": 65,
     "metadata": {},
     "output_type": "execute_result"
    }
   ],
   "source": [
    "# Which parts of each array are equal? (try using '==')\n",
    "array1 == array2"
   ]
  },
  {
   "cell_type": "code",
   "execution_count": 66,
   "metadata": {},
   "outputs": [
    {
     "data": {
      "text/plain": [
       "array([[0, 0, 8],\n",
       "       [3, 8, 8],\n",
       "       [2, 5, 6]])"
      ]
     },
     "execution_count": 66,
     "metadata": {},
     "output_type": "execute_result"
    }
   ],
   "source": [
    "# Sort one of the arrays you just created in ascending order\n",
    "np.sort(array1)"
   ]
  },
  {
   "cell_type": "code",
   "execution_count": 68,
   "metadata": {},
   "outputs": [
    {
     "data": {
      "text/plain": [
       "array([[0, 0, 5],\n",
       "       [2, 3, 8],\n",
       "       [8, 6, 8]])"
      ]
     },
     "execution_count": 68,
     "metadata": {},
     "output_type": "execute_result"
    }
   ],
   "source": [
    "# Sort the indexes of one of the arrays you just created\n",
    "np.sort(array1, axis=0)"
   ]
  },
  {
   "cell_type": "code",
   "execution_count": 69,
   "metadata": {},
   "outputs": [
    {
     "data": {
      "text/plain": [
       "2"
      ]
     },
     "execution_count": 69,
     "metadata": {},
     "output_type": "execute_result"
    }
   ],
   "source": [
    "# Find the index with the maximum value in one of the arrays you've created\n",
    "np.argmax(array1)"
   ]
  },
  {
   "cell_type": "code",
   "execution_count": 70,
   "metadata": {},
   "outputs": [
    {
     "data": {
      "text/plain": [
       "0"
      ]
     },
     "execution_count": 70,
     "metadata": {},
     "output_type": "execute_result"
    }
   ],
   "source": [
    "# Find the index with the minimum value in one of the arrays you've created\n",
    "np.argmin(array1)"
   ]
  },
  {
   "cell_type": "code",
   "execution_count": 47,
   "metadata": {},
   "outputs": [],
   "source": [
    "# Find the indexes with the maximum values down the verticial axis\n",
    "# of one of the arrays you created\n"
   ]
  },
  {
   "cell_type": "code",
   "execution_count": 48,
   "metadata": {},
   "outputs": [],
   "source": [
    "# Find the indexes with the minimum values across the horizontal axis\n",
    "# of one of the arrays you created\n"
   ]
  },
  {
   "cell_type": "code",
   "execution_count": 49,
   "metadata": {},
   "outputs": [],
   "source": [
    "# Create an array of normally distributed random numbers\n"
   ]
  },
  {
   "cell_type": "code",
   "execution_count": 50,
   "metadata": {},
   "outputs": [],
   "source": [
    "# Create an array with 10 evenly spaced numbers between 1 and 100\n"
   ]
  },
  {
   "cell_type": "markdown",
   "metadata": {},
   "source": [
    "## Extensions\n",
    "\n",
    "For more exercises, check out the [NumPy quickstart tutorial](https://docs.scipy.org/doc/numpy-1.15.0/user/quickstart.html). A good practice would be to read through it and for the parts you find interesting, add them into the end of this notebook.\n",
    "\n",
    "Pay particular attention to the section on broadcasting. And most importantly, get hands-on with the code as much as possible. If in dobut, run the code, see what it does.\n",
    "\n",
    "The next place you could go is the [Stack Overflow page for the top questions and answers for NumPy](https://stackoverflow.com/questions/tagged/numpy?sort=MostVotes&edited=true). Often, you'll find some of the most common and useful NumPy functions here. Don't forget to play around with the filters! You'll likely find something helpful here.\n",
    "\n",
    "Finally, as always, remember, the best way to learn something new is to try it. And try it relentlessly. If you get interested in some kind of NumPy function, asking yourself, \"I wonder if NumPy could do that?\", go and find out."
   ]
  }
 ],
 "metadata": {
  "kernelspec": {
   "display_name": "Python 3",
   "language": "python",
   "name": "python3"
  },
  "language_info": {
   "codemirror_mode": {
    "name": "ipython",
    "version": 3
   },
   "file_extension": ".py",
   "mimetype": "text/x-python",
   "name": "python",
   "nbconvert_exporter": "python",
   "pygments_lexer": "ipython3",
   "version": "3.8.2"
  }
 },
 "nbformat": 4,
 "nbformat_minor": 2
}
